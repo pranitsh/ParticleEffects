{
 "cells": [
  {
   "cell_type": "markdown",
   "metadata": {},
   "source": [
    "Here. we try to create incompressible, homegenous fluid. \n",
    "\n",
    "The formula given as the Navier-Stokes equation is:\n",
    "\n",
    "$$\\frac{\\partial \\textbf{u}}{\\partial t}=-u(\\textbf{u}\\cdot\\Delta)-\\frac{\\Delta p}{\\rho}+\\upsilon\\Delta^2 u + F $$\n",
    "\n",
    "Since $ u = (u_x, u_y) $, we have the below\n",
    "\n",
    "$$\\frac{\\partial u_x}{\\partial t}=-u_x(\\textbf{u}\\cdot\\Delta)-\\frac{\\Delta p}{\\rho}+\\upsilon\\Delta^2 u_x + f_x $$\n",
    "\n",
    "$$\\frac{\\partial u_y}{\\partial t}=-u_y(\\textbf{u}\\cdot\\Delta)-\\frac{\\Delta p}{\\rho}+\\upsilon\\Delta^2 u_y + f_y $$\n",
    "\n",
    "We also make the extra assumption that the fluid is incompressible, thus the divergence is 0:\n",
    "\n",
    "$$ \\Delta \\cdot \\textbf{u} = 0 $$\n",
    "\n"
   ]
  },
  {
   "cell_type": "code",
   "execution_count": 29,
   "metadata": {},
   "outputs": [
    {
     "name": "stdout",
     "output_type": "stream",
     "text": [
      "Requirement already satisfied: sympy in /workspaces/ParticleEffects/env/lib/python3.10/site-packages (1.12)\n",
      "Requirement already satisfied: mpmath>=0.19 in /workspaces/ParticleEffects/env/lib/python3.10/site-packages (from sympy) (1.3.0)\n",
      "\n",
      "\u001b[1m[\u001b[0m\u001b[34;49mnotice\u001b[0m\u001b[1;39;49m]\u001b[0m\u001b[39;49m A new release of pip is available: \u001b[0m\u001b[31;49m23.0.1\u001b[0m\u001b[39;49m -> \u001b[0m\u001b[32;49m24.0\u001b[0m\n",
      "\u001b[1m[\u001b[0m\u001b[34;49mnotice\u001b[0m\u001b[1;39;49m]\u001b[0m\u001b[39;49m To update, run: \u001b[0m\u001b[32;49mpip install --upgrade pip\u001b[0m\n",
      "Note: you may need to restart the kernel to use updated packages.\n",
      "Collecting antlr4-python3-runtime==4.11\n",
      "  Downloading antlr4_python3_runtime-4.11.0-py3-none-any.whl (144 kB)\n",
      "\u001b[2K     \u001b[90m━━━━━━━━━━━━━━━━━━━━━━━━━━━━━━━━━━━━━━━\u001b[0m \u001b[32m144.2/144.2 kB\u001b[0m \u001b[31m6.0 MB/s\u001b[0m eta \u001b[36m0:00:00\u001b[0m\n",
      "\u001b[?25hInstalling collected packages: antlr4-python3-runtime\n",
      "Successfully installed antlr4-python3-runtime-4.11.0\n",
      "\n",
      "\u001b[1m[\u001b[0m\u001b[34;49mnotice\u001b[0m\u001b[1;39;49m]\u001b[0m\u001b[39;49m A new release of pip is available: \u001b[0m\u001b[31;49m23.0.1\u001b[0m\u001b[39;49m -> \u001b[0m\u001b[32;49m24.0\u001b[0m\n",
      "\u001b[1m[\u001b[0m\u001b[34;49mnotice\u001b[0m\u001b[1;39;49m]\u001b[0m\u001b[39;49m To update, run: \u001b[0m\u001b[32;49mpip install --upgrade pip\u001b[0m\n",
      "Note: you may need to restart the kernel to use updated packages.\n"
     ]
    }
   ],
   "source": [
    "%pip install sympy\n",
    "%pip install antlr4-python3-runtime==4.11"
   ]
  }
 ],
 "metadata": {
  "kernelspec": {
   "display_name": "env",
   "language": "python",
   "name": "python3"
  },
  "language_info": {
   "codemirror_mode": {
    "name": "ipython",
    "version": 3
   },
   "file_extension": ".py",
   "mimetype": "text/x-python",
   "name": "python",
   "nbconvert_exporter": "python",
   "pygments_lexer": "ipython3",
   "version": "3.10.13"
  }
 },
 "nbformat": 4,
 "nbformat_minor": 2
}
